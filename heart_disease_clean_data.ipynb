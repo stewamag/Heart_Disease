{
 "cells": [
  {
   "cell_type": "code",
   "execution_count": 1,
   "id": "bdd9010e",
   "metadata": {},
   "outputs": [],
   "source": [
    "# Import the dependencies\n",
    "import os\n",
    "import pandas as pd\n",
    "from pathlib import Path\n",
    "import numpy as np\n",
    "import matplotlib.pyplot as plt"
   ]
  },
  {
   "cell_type": "code",
   "execution_count": 2,
   "id": "f40feac6",
   "metadata": {},
   "outputs": [],
   "source": [
    "# Import data files\n",
    "heart_attack = pd.read_csv(Path('./Resources/heart_attacks.csv'))\n",
    "heart_disease = pd.read_csv(Path('./Resources/hd_by_state.csv'))\n",
    "fast_food = pd.read_csv(Path('./Resources/FastFoodRestaurants.csv'))"
   ]
  },
  {
   "cell_type": "code",
   "execution_count": 3,
   "id": "0bd04dae",
   "metadata": {},
   "outputs": [
    {
     "data": {
      "text/plain": [
       "age           int64\n",
       "sex           int64\n",
       "cp            int64\n",
       "trtbps        int64\n",
       "chol          int64\n",
       "fbs           int64\n",
       "restecg       int64\n",
       "thalachh      int64\n",
       "exng          int64\n",
       "oldpeak     float64\n",
       "slp           int64\n",
       "caa           int64\n",
       "thall         int64\n",
       "output        int64\n",
       "dtype: object"
      ]
     },
     "execution_count": 3,
     "metadata": {},
     "output_type": "execute_result"
    }
   ],
   "source": [
    "# Find Heart Attack Data Types\n",
    "heart_attack.dtypes"
   ]
  },
  {
   "cell_type": "code",
   "execution_count": 4,
   "id": "abeebef1",
   "metadata": {},
   "outputs": [
    {
     "data": {
      "text/plain": [
       "Index(['age', 'sex', 'cp', 'trtbps', 'chol', 'fbs', 'restecg', 'thalachh',\n",
       "       'exng', 'oldpeak', 'slp', 'caa', 'thall', 'output'],\n",
       "      dtype='object')"
      ]
     },
     "execution_count": 4,
     "metadata": {},
     "output_type": "execute_result"
    }
   ],
   "source": [
    "# Find Heart Attack Column Names\n",
    "heart_attack.columns"
   ]
  },
  {
   "cell_type": "code",
   "execution_count": 5,
   "id": "5e9e9ba3",
   "metadata": {},
   "outputs": [],
   "source": [
    "# Rename Heart Attack Columns\n",
    "heart_attack.rename(columns={'age' : 'Age', 'sex' : 'Sex', 'cp' : 'Chest_Pain_Type', 'trtbps' : 'Resting_Blood_Pressure', 'chol' : 'Cholestoral', 'fbs' : 'Fasting_Blood_Sugar', 'restecg' : 'Resting_Electrocardiographic', 'thalachh': 'Maximum_Heart_Rate',\n",
    "       'exng' : 'Exercise_Induced_Angina', 'oldpeak' : 'Previous_Peak', 'slp' : 'Slope', 'caa': 'Number_of_Major_Vessels', 'thall': 'Thalium_Stress_Test', 'output': 'Likelihood_of_Heart_Attack'}, inplace=True)"
   ]
  },
  {
   "cell_type": "code",
   "execution_count": 6,
   "id": "4d74c963",
   "metadata": {},
   "outputs": [
    {
     "data": {
      "text/plain": [
       "Index(['Age', 'Sex', 'Chest_Pain_Type', 'Resting_Blood_Pressure',\n",
       "       'Cholestoral', 'Fasting_Blood_Sugar', 'Resting_Electrocardiographic',\n",
       "       'Maximum_Heart_Rate', 'Exercise_Induced_Angina', 'Previous_Peak',\n",
       "       'Slope', 'Number_of_Major_Vessels', 'Thalium_Stress_Test',\n",
       "       'Likelihood_of_Heart_Attack'],\n",
       "      dtype='object')"
      ]
     },
     "execution_count": 6,
     "metadata": {},
     "output_type": "execute_result"
    }
   ],
   "source": [
    "# Check Heart Attack Columns have been renamed\n",
    "heart_attack.columns"
   ]
  },
  {
   "cell_type": "code",
   "execution_count": 7,
   "id": "60814b8b",
   "metadata": {},
   "outputs": [
    {
     "data": {
      "text/html": [
       "<div>\n",
       "<style scoped>\n",
       "    .dataframe tbody tr th:only-of-type {\n",
       "        vertical-align: middle;\n",
       "    }\n",
       "\n",
       "    .dataframe tbody tr th {\n",
       "        vertical-align: top;\n",
       "    }\n",
       "\n",
       "    .dataframe thead th {\n",
       "        text-align: right;\n",
       "    }\n",
       "</style>\n",
       "<table border=\"1\" class=\"dataframe\">\n",
       "  <thead>\n",
       "    <tr style=\"text-align: right;\">\n",
       "      <th></th>\n",
       "      <th>Age</th>\n",
       "      <th>Sex</th>\n",
       "      <th>Chest_Pain_Type</th>\n",
       "      <th>Resting_Blood_Pressure</th>\n",
       "      <th>Cholestoral</th>\n",
       "      <th>Fasting_Blood_Sugar</th>\n",
       "      <th>Resting_Electrocardiographic</th>\n",
       "      <th>Maximum_Heart_Rate</th>\n",
       "      <th>Exercise_Induced_Angina</th>\n",
       "      <th>Previous_Peak</th>\n",
       "      <th>Slope</th>\n",
       "      <th>Number_of_Major_Vessels</th>\n",
       "      <th>Thalium_Stress_Test</th>\n",
       "      <th>Likelihood_of_Heart_Attack</th>\n",
       "    </tr>\n",
       "  </thead>\n",
       "  <tbody>\n",
       "    <tr>\n",
       "      <th>0</th>\n",
       "      <td>63</td>\n",
       "      <td>1</td>\n",
       "      <td>3</td>\n",
       "      <td>145</td>\n",
       "      <td>233</td>\n",
       "      <td>1</td>\n",
       "      <td>0</td>\n",
       "      <td>150</td>\n",
       "      <td>0</td>\n",
       "      <td>2.3</td>\n",
       "      <td>0</td>\n",
       "      <td>0</td>\n",
       "      <td>1</td>\n",
       "      <td>1</td>\n",
       "    </tr>\n",
       "    <tr>\n",
       "      <th>1</th>\n",
       "      <td>37</td>\n",
       "      <td>1</td>\n",
       "      <td>2</td>\n",
       "      <td>130</td>\n",
       "      <td>250</td>\n",
       "      <td>0</td>\n",
       "      <td>1</td>\n",
       "      <td>187</td>\n",
       "      <td>0</td>\n",
       "      <td>3.5</td>\n",
       "      <td>0</td>\n",
       "      <td>0</td>\n",
       "      <td>2</td>\n",
       "      <td>1</td>\n",
       "    </tr>\n",
       "    <tr>\n",
       "      <th>2</th>\n",
       "      <td>41</td>\n",
       "      <td>0</td>\n",
       "      <td>1</td>\n",
       "      <td>130</td>\n",
       "      <td>204</td>\n",
       "      <td>0</td>\n",
       "      <td>0</td>\n",
       "      <td>172</td>\n",
       "      <td>0</td>\n",
       "      <td>1.4</td>\n",
       "      <td>2</td>\n",
       "      <td>0</td>\n",
       "      <td>2</td>\n",
       "      <td>1</td>\n",
       "    </tr>\n",
       "    <tr>\n",
       "      <th>3</th>\n",
       "      <td>56</td>\n",
       "      <td>1</td>\n",
       "      <td>1</td>\n",
       "      <td>120</td>\n",
       "      <td>236</td>\n",
       "      <td>0</td>\n",
       "      <td>1</td>\n",
       "      <td>178</td>\n",
       "      <td>0</td>\n",
       "      <td>0.8</td>\n",
       "      <td>2</td>\n",
       "      <td>0</td>\n",
       "      <td>2</td>\n",
       "      <td>1</td>\n",
       "    </tr>\n",
       "    <tr>\n",
       "      <th>4</th>\n",
       "      <td>57</td>\n",
       "      <td>0</td>\n",
       "      <td>0</td>\n",
       "      <td>120</td>\n",
       "      <td>354</td>\n",
       "      <td>0</td>\n",
       "      <td>1</td>\n",
       "      <td>163</td>\n",
       "      <td>1</td>\n",
       "      <td>0.6</td>\n",
       "      <td>2</td>\n",
       "      <td>0</td>\n",
       "      <td>2</td>\n",
       "      <td>1</td>\n",
       "    </tr>\n",
       "  </tbody>\n",
       "</table>\n",
       "</div>"
      ],
      "text/plain": [
       "   Age  Sex  Chest_Pain_Type  Resting_Blood_Pressure  Cholestoral  \\\n",
       "0   63    1                3                     145          233   \n",
       "1   37    1                2                     130          250   \n",
       "2   41    0                1                     130          204   \n",
       "3   56    1                1                     120          236   \n",
       "4   57    0                0                     120          354   \n",
       "\n",
       "   Fasting_Blood_Sugar  Resting_Electrocardiographic  Maximum_Heart_Rate  \\\n",
       "0                    1                             0                 150   \n",
       "1                    0                             1                 187   \n",
       "2                    0                             0                 172   \n",
       "3                    0                             1                 178   \n",
       "4                    0                             1                 163   \n",
       "\n",
       "   Exercise_Induced_Angina  Previous_Peak  Slope  Number_of_Major_Vessels  \\\n",
       "0                        0            2.3      0                        0   \n",
       "1                        0            3.5      0                        0   \n",
       "2                        0            1.4      2                        0   \n",
       "3                        0            0.8      2                        0   \n",
       "4                        1            0.6      2                        0   \n",
       "\n",
       "   Thalium_Stress_Test  Likelihood_of_Heart_Attack  \n",
       "0                    1                           1  \n",
       "1                    2                           1  \n",
       "2                    2                           1  \n",
       "3                    2                           1  \n",
       "4                    2                           1  "
      ]
     },
     "execution_count": 7,
     "metadata": {},
     "output_type": "execute_result"
    }
   ],
   "source": [
    "# Check Heart Attack DataFrame\n",
    "heart_attack.head()"
   ]
  },
  {
   "cell_type": "code",
   "execution_count": 8,
   "id": "3e4ff9f6",
   "metadata": {},
   "outputs": [
    {
     "data": {
      "text/plain": [
       "YEAR        int64\n",
       "STATE      object\n",
       "RATE      float64\n",
       "DEATHS     object\n",
       "URL        object\n",
       "dtype: object"
      ]
     },
     "execution_count": 8,
     "metadata": {},
     "output_type": "execute_result"
    }
   ],
   "source": [
    "# Check Heart Disease Data Types\n",
    "heart_disease.dtypes"
   ]
  },
  {
   "cell_type": "code",
   "execution_count": 9,
   "id": "319d2542",
   "metadata": {},
   "outputs": [
    {
     "data": {
      "text/plain": [
       "Index(['YEAR', 'STATE', 'RATE', 'DEATHS', 'URL'], dtype='object')"
      ]
     },
     "execution_count": 9,
     "metadata": {},
     "output_type": "execute_result"
    }
   ],
   "source": [
    "# Check Heart Disease Column Names\n",
    "heart_disease.columns"
   ]
  },
  {
   "cell_type": "code",
   "execution_count": 10,
   "id": "aad1748b",
   "metadata": {},
   "outputs": [],
   "source": [
    "# Rename Heart Disease Columns\n",
    "heart_disease.rename(columns={'YEAR' : 'Year', 'STATE' : 'State', 'RATE' : 'Rate_of_Heart_Disease', 'DEATHS' : 'Deaths'}, inplace=True)"
   ]
  },
  {
   "cell_type": "code",
   "execution_count": 11,
   "id": "e860b3bf",
   "metadata": {},
   "outputs": [
    {
     "data": {
      "text/plain": [
       "Index(['Year', 'State', 'Rate_of_Heart_Disease', 'Deaths', 'URL'], dtype='object')"
      ]
     },
     "execution_count": 11,
     "metadata": {},
     "output_type": "execute_result"
    }
   ],
   "source": [
    "# Check Heart Disease Column Names have been updates\n",
    "heart_disease.columns"
   ]
  },
  {
   "cell_type": "code",
   "execution_count": 12,
   "id": "7b45ca3d",
   "metadata": {},
   "outputs": [
    {
     "data": {
      "text/html": [
       "<div>\n",
       "<style scoped>\n",
       "    .dataframe tbody tr th:only-of-type {\n",
       "        vertical-align: middle;\n",
       "    }\n",
       "\n",
       "    .dataframe tbody tr th {\n",
       "        vertical-align: top;\n",
       "    }\n",
       "\n",
       "    .dataframe thead th {\n",
       "        text-align: right;\n",
       "    }\n",
       "</style>\n",
       "<table border=\"1\" class=\"dataframe\">\n",
       "  <thead>\n",
       "    <tr style=\"text-align: right;\">\n",
       "      <th></th>\n",
       "      <th>Year</th>\n",
       "      <th>State</th>\n",
       "      <th>Rate_of_Heart_Disease</th>\n",
       "      <th>Deaths</th>\n",
       "    </tr>\n",
       "  </thead>\n",
       "  <tbody>\n",
       "    <tr>\n",
       "      <th>0</th>\n",
       "      <td>2020</td>\n",
       "      <td>AL</td>\n",
       "      <td>237.5</td>\n",
       "      <td>14739</td>\n",
       "    </tr>\n",
       "    <tr>\n",
       "      <th>1</th>\n",
       "      <td>2020</td>\n",
       "      <td>AK</td>\n",
       "      <td>139.8</td>\n",
       "      <td>915</td>\n",
       "    </tr>\n",
       "    <tr>\n",
       "      <th>2</th>\n",
       "      <td>2020</td>\n",
       "      <td>AZ</td>\n",
       "      <td>144.8</td>\n",
       "      <td>14196</td>\n",
       "    </tr>\n",
       "    <tr>\n",
       "      <th>3</th>\n",
       "      <td>2020</td>\n",
       "      <td>AR</td>\n",
       "      <td>222.5</td>\n",
       "      <td>8621</td>\n",
       "    </tr>\n",
       "    <tr>\n",
       "      <th>4</th>\n",
       "      <td>2020</td>\n",
       "      <td>CA</td>\n",
       "      <td>144.0</td>\n",
       "      <td>66538</td>\n",
       "    </tr>\n",
       "    <tr>\n",
       "      <th>...</th>\n",
       "      <td>...</td>\n",
       "      <td>...</td>\n",
       "      <td>...</td>\n",
       "      <td>...</td>\n",
       "    </tr>\n",
       "    <tr>\n",
       "      <th>395</th>\n",
       "      <td>2005</td>\n",
       "      <td>VA</td>\n",
       "      <td>203.0</td>\n",
       "      <td>14192</td>\n",
       "    </tr>\n",
       "    <tr>\n",
       "      <th>396</th>\n",
       "      <td>2005</td>\n",
       "      <td>WA</td>\n",
       "      <td>180.5</td>\n",
       "      <td>10985</td>\n",
       "    </tr>\n",
       "    <tr>\n",
       "      <th>397</th>\n",
       "      <td>2005</td>\n",
       "      <td>WV</td>\n",
       "      <td>253.6</td>\n",
       "      <td>5538</td>\n",
       "    </tr>\n",
       "    <tr>\n",
       "      <th>398</th>\n",
       "      <td>2005</td>\n",
       "      <td>WI</td>\n",
       "      <td>190.6</td>\n",
       "      <td>11842</td>\n",
       "    </tr>\n",
       "    <tr>\n",
       "      <th>399</th>\n",
       "      <td>2005</td>\n",
       "      <td>WY</td>\n",
       "      <td>188.3</td>\n",
       "      <td>952</td>\n",
       "    </tr>\n",
       "  </tbody>\n",
       "</table>\n",
       "<p>400 rows × 4 columns</p>\n",
       "</div>"
      ],
      "text/plain": [
       "     Year State  Rate_of_Heart_Disease Deaths\n",
       "0    2020    AL                  237.5  14739\n",
       "1    2020    AK                  139.8    915\n",
       "2    2020    AZ                  144.8  14196\n",
       "3    2020    AR                  222.5   8621\n",
       "4    2020    CA                  144.0  66538\n",
       "..    ...   ...                    ...    ...\n",
       "395  2005    VA                  203.0  14192\n",
       "396  2005    WA                  180.5  10985\n",
       "397  2005    WV                  253.6   5538\n",
       "398  2005    WI                  190.6  11842\n",
       "399  2005    WY                  188.3    952\n",
       "\n",
       "[400 rows x 4 columns]"
      ]
     },
     "execution_count": 12,
     "metadata": {},
     "output_type": "execute_result"
    }
   ],
   "source": [
    "# Drop URL column from DataFrame - it is unnecessary for our purposes\n",
    "heart_disease.drop(columns=['URL'])"
   ]
  },
  {
   "cell_type": "code",
   "execution_count": 13,
   "id": "66d62467",
   "metadata": {},
   "outputs": [
    {
     "data": {
      "text/plain": [
       "index           int64\n",
       "address        object\n",
       "city           object\n",
       "country        object\n",
       "keys           object\n",
       "latitude      float64\n",
       "longitude     float64\n",
       "name           object\n",
       "postalCode     object\n",
       "province       object\n",
       "websites       object\n",
       "dtype: object"
      ]
     },
     "execution_count": 13,
     "metadata": {},
     "output_type": "execute_result"
    }
   ],
   "source": [
    "# Check Fast Food Data Types\n",
    "fast_food.dtypes"
   ]
  },
  {
   "cell_type": "code",
   "execution_count": 14,
   "id": "534ba92c",
   "metadata": {},
   "outputs": [
    {
     "data": {
      "text/plain": [
       "Index(['index', 'address', 'city', 'country', 'keys', 'latitude', 'longitude',\n",
       "       'name', 'postalCode', 'province', 'websites'],\n",
       "      dtype='object')"
      ]
     },
     "execution_count": 14,
     "metadata": {},
     "output_type": "execute_result"
    }
   ],
   "source": [
    "# Check names of Fast Food Columns\n",
    "fast_food.columns"
   ]
  },
  {
   "cell_type": "code",
   "execution_count": 15,
   "id": "3e6db96a",
   "metadata": {},
   "outputs": [],
   "source": [
    "# Rename Fast Food Columns\n",
    "fast_food.rename(columns={'index': 'Index', 'address': 'Address', 'city': 'City', 'country': 'Country', 'keys': 'Keys', 'latitude': 'Latitude', 'longitude': 'Longitude',\n",
    "       'name': 'Name_of_Restaurant', 'postalCode': 'Zip_Code', 'province': 'State'}, inplace=True)"
   ]
  },
  {
   "cell_type": "code",
   "execution_count": 16,
   "id": "9d17b4f8",
   "metadata": {},
   "outputs": [
    {
     "data": {
      "text/plain": [
       "Index(['Index', 'Address', 'City', 'Country', 'Keys', 'Latitude', 'Longitude',\n",
       "       'Name_of_Restaurant', 'Zip_Code', 'State', 'websites'],\n",
       "      dtype='object')"
      ]
     },
     "execution_count": 16,
     "metadata": {},
     "output_type": "execute_result"
    }
   ],
   "source": [
    "# Check names of Fast Food Columns have been updated\n",
    "fast_food.columns"
   ]
  },
  {
   "cell_type": "code",
   "execution_count": 17,
   "id": "390f736f",
   "metadata": {},
   "outputs": [
    {
     "data": {
      "text/plain": [
       "Index                 10000\n",
       "Address                9934\n",
       "City                   2775\n",
       "Country                   1\n",
       "Keys                  10000\n",
       "Latitude               9935\n",
       "Longitude              9956\n",
       "Name_of_Restaurant      548\n",
       "Zip_Code               5289\n",
       "State                    52\n",
       "websites               3821\n",
       "dtype: int64"
      ]
     },
     "execution_count": 17,
     "metadata": {},
     "output_type": "execute_result"
    }
   ],
   "source": [
    "# Check to see if there is more than one country in country column, otherwise, drop with other columns\n",
    "fast_food.nunique()"
   ]
  },
  {
   "cell_type": "code",
   "execution_count": 18,
   "id": "e92f5bf0",
   "metadata": {},
   "outputs": [
    {
     "data": {
      "text/html": [
       "<div>\n",
       "<style scoped>\n",
       "    .dataframe tbody tr th:only-of-type {\n",
       "        vertical-align: middle;\n",
       "    }\n",
       "\n",
       "    .dataframe tbody tr th {\n",
       "        vertical-align: top;\n",
       "    }\n",
       "\n",
       "    .dataframe thead th {\n",
       "        text-align: right;\n",
       "    }\n",
       "</style>\n",
       "<table border=\"1\" class=\"dataframe\">\n",
       "  <thead>\n",
       "    <tr style=\"text-align: right;\">\n",
       "      <th></th>\n",
       "      <th>Index</th>\n",
       "      <th>Address</th>\n",
       "      <th>City</th>\n",
       "      <th>Latitude</th>\n",
       "      <th>Longitude</th>\n",
       "      <th>Name_of_Restaurant</th>\n",
       "      <th>Zip_Code</th>\n",
       "      <th>State</th>\n",
       "    </tr>\n",
       "  </thead>\n",
       "  <tbody>\n",
       "    <tr>\n",
       "      <th>0</th>\n",
       "      <td>0</td>\n",
       "      <td>324 Main St</td>\n",
       "      <td>Massena</td>\n",
       "      <td>44.921300</td>\n",
       "      <td>-74.890210</td>\n",
       "      <td>McDonald's</td>\n",
       "      <td>13662</td>\n",
       "      <td>NY</td>\n",
       "    </tr>\n",
       "    <tr>\n",
       "      <th>1</th>\n",
       "      <td>1</td>\n",
       "      <td>530 Clinton Ave</td>\n",
       "      <td>Washington Court House</td>\n",
       "      <td>39.532550</td>\n",
       "      <td>-83.445260</td>\n",
       "      <td>Wendy's</td>\n",
       "      <td>43160</td>\n",
       "      <td>OH</td>\n",
       "    </tr>\n",
       "    <tr>\n",
       "      <th>2</th>\n",
       "      <td>2</td>\n",
       "      <td>408 Market Square Dr</td>\n",
       "      <td>Maysville</td>\n",
       "      <td>38.627360</td>\n",
       "      <td>-83.791410</td>\n",
       "      <td>Frisch's Big Boy</td>\n",
       "      <td>41056</td>\n",
       "      <td>KY</td>\n",
       "    </tr>\n",
       "    <tr>\n",
       "      <th>3</th>\n",
       "      <td>3</td>\n",
       "      <td>6098 State Highway 37</td>\n",
       "      <td>Massena</td>\n",
       "      <td>44.950080</td>\n",
       "      <td>-74.845530</td>\n",
       "      <td>McDonald's</td>\n",
       "      <td>13662</td>\n",
       "      <td>NY</td>\n",
       "    </tr>\n",
       "    <tr>\n",
       "      <th>4</th>\n",
       "      <td>4</td>\n",
       "      <td>139 Columbus Rd</td>\n",
       "      <td>Athens</td>\n",
       "      <td>39.351550</td>\n",
       "      <td>-82.097280</td>\n",
       "      <td>OMG! Rotisserie</td>\n",
       "      <td>45701</td>\n",
       "      <td>OH</td>\n",
       "    </tr>\n",
       "    <tr>\n",
       "      <th>...</th>\n",
       "      <td>...</td>\n",
       "      <td>...</td>\n",
       "      <td>...</td>\n",
       "      <td>...</td>\n",
       "      <td>...</td>\n",
       "      <td>...</td>\n",
       "      <td>...</td>\n",
       "      <td>...</td>\n",
       "    </tr>\n",
       "    <tr>\n",
       "      <th>9995</th>\n",
       "      <td>9995</td>\n",
       "      <td>3013 Peach Orchard Rd</td>\n",
       "      <td>Augusta</td>\n",
       "      <td>33.415257</td>\n",
       "      <td>-82.024531</td>\n",
       "      <td>Wendy's</td>\n",
       "      <td>30906</td>\n",
       "      <td>GA</td>\n",
       "    </tr>\n",
       "    <tr>\n",
       "      <th>9996</th>\n",
       "      <td>9996</td>\n",
       "      <td>678 Northwest Hwy</td>\n",
       "      <td>Cary</td>\n",
       "      <td>42.217300</td>\n",
       "      <td>-88.255800</td>\n",
       "      <td>Lee's Oriental Martial Arts</td>\n",
       "      <td>60013</td>\n",
       "      <td>IL</td>\n",
       "    </tr>\n",
       "    <tr>\n",
       "      <th>9997</th>\n",
       "      <td>9997</td>\n",
       "      <td>1708 Main St</td>\n",
       "      <td>Longmont</td>\n",
       "      <td>40.189190</td>\n",
       "      <td>-105.101720</td>\n",
       "      <td>Five Guys</td>\n",
       "      <td>80501</td>\n",
       "      <td>CO</td>\n",
       "    </tr>\n",
       "    <tr>\n",
       "      <th>9998</th>\n",
       "      <td>9998</td>\n",
       "      <td>67740 Highway 111</td>\n",
       "      <td>Cathedral City</td>\n",
       "      <td>33.788640</td>\n",
       "      <td>-116.482150</td>\n",
       "      <td>El Pollo Loco</td>\n",
       "      <td>92234</td>\n",
       "      <td>CA</td>\n",
       "    </tr>\n",
       "    <tr>\n",
       "      <th>9999</th>\n",
       "      <td>9999</td>\n",
       "      <td>5701 E La Palma Ave</td>\n",
       "      <td>Anaheim</td>\n",
       "      <td>33.860074</td>\n",
       "      <td>-117.789762</td>\n",
       "      <td>Carl's Jr.</td>\n",
       "      <td>92807</td>\n",
       "      <td>CA</td>\n",
       "    </tr>\n",
       "  </tbody>\n",
       "</table>\n",
       "<p>10000 rows × 8 columns</p>\n",
       "</div>"
      ],
      "text/plain": [
       "      Index                Address                    City   Latitude  \\\n",
       "0         0            324 Main St                 Massena  44.921300   \n",
       "1         1        530 Clinton Ave  Washington Court House  39.532550   \n",
       "2         2   408 Market Square Dr               Maysville  38.627360   \n",
       "3         3  6098 State Highway 37                 Massena  44.950080   \n",
       "4         4        139 Columbus Rd                  Athens  39.351550   \n",
       "...     ...                    ...                     ...        ...   \n",
       "9995   9995  3013 Peach Orchard Rd                 Augusta  33.415257   \n",
       "9996   9996      678 Northwest Hwy                    Cary  42.217300   \n",
       "9997   9997           1708 Main St                Longmont  40.189190   \n",
       "9998   9998      67740 Highway 111          Cathedral City  33.788640   \n",
       "9999   9999    5701 E La Palma Ave                 Anaheim  33.860074   \n",
       "\n",
       "       Longitude           Name_of_Restaurant Zip_Code State  \n",
       "0     -74.890210                   McDonald's    13662    NY  \n",
       "1     -83.445260                      Wendy's    43160    OH  \n",
       "2     -83.791410             Frisch's Big Boy    41056    KY  \n",
       "3     -74.845530                   McDonald's    13662    NY  \n",
       "4     -82.097280              OMG! Rotisserie    45701    OH  \n",
       "...          ...                          ...      ...   ...  \n",
       "9995  -82.024531                      Wendy's    30906    GA  \n",
       "9996  -88.255800  Lee's Oriental Martial Arts    60013    IL  \n",
       "9997 -105.101720                    Five Guys    80501    CO  \n",
       "9998 -116.482150                El Pollo Loco    92234    CA  \n",
       "9999 -117.789762                   Carl's Jr.    92807    CA  \n",
       "\n",
       "[10000 rows x 8 columns]"
      ]
     },
     "execution_count": 18,
     "metadata": {},
     "output_type": "execute_result"
    }
   ],
   "source": [
    "# Drop 'websites' and 'keys' columns - unnecessary information for our purposes\n",
    "# Drop 'country' column as there is only one country (US), so it is unnecessary\n",
    "fast_food.drop(columns=['websites', 'Keys', 'Country'])"
   ]
  },
  {
   "cell_type": "code",
   "execution_count": 19,
   "id": "635fb6cd",
   "metadata": {},
   "outputs": [],
   "source": [
    "fast_food.to_csv(Path('./Resources/clean_fast_food.csv'), index=False)"
   ]
  },
  {
   "cell_type": "code",
   "execution_count": 20,
   "id": "b0318f74",
   "metadata": {},
   "outputs": [],
   "source": [
    "heart_disease.to_csv(Path('./Resources/clean_heart_disease.csv'))"
   ]
  },
  {
   "cell_type": "code",
   "execution_count": 21,
   "id": "b9c52e79",
   "metadata": {},
   "outputs": [],
   "source": [
    "heart_attack.to_csv(Path('./Resources/clean_heart_attack.csv'))"
   ]
  },
  {
   "cell_type": "code",
   "execution_count": null,
   "id": "207dd054",
   "metadata": {},
   "outputs": [],
   "source": []
  }
 ],
 "metadata": {
  "kernelspec": {
   "display_name": "mlenv",
   "language": "python",
   "name": "mlenv"
  },
  "language_info": {
   "codemirror_mode": {
    "name": "ipython",
    "version": 3
   },
   "file_extension": ".py",
   "mimetype": "text/x-python",
   "name": "python",
   "nbconvert_exporter": "python",
   "pygments_lexer": "ipython3",
   "version": "3.7.13"
  }
 },
 "nbformat": 4,
 "nbformat_minor": 5
}
